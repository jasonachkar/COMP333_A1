{
 "cells": [
  {
   "cell_type": "code",
   "id": "initial_id",
   "metadata": {
    "collapsed": true
   },
   "source": [
    "import pandas as pd\n",
    "import sqlite3 as sql\n",
    "\n",
    "conn = sql.connect(\"a1db.db\")\n",
    "sql_query = \"SELECT * FROM nesreca;\"\n",
    "df1 = pd.read_sql_query(sql_query, conn)\n",
    "df1.to_csv(\"a1db.csv\")"
   ],
   "outputs": [],
   "execution_count": null
  },
  {
   "metadata": {},
   "cell_type": "code",
   "source": [
    "sql_query_nesreca = \"SELECT * FROM nesreca;\"\n",
    "df2 = pd.read_sql_query(sql_query_nesreca, conn)\n",
    "dataFrame_nesreca = pd.DataFrame(df2)\n",
    "sql_query_oseba = \"SELECT * FROM oseba;\"\n",
    "df3 = pd.read_sql_query(sql_query_oseba, conn)\n",
    "dataFrame_oseba = pd.DataFrame(df3)\n",
    "sql_query_upravna_enota = \"SELECT * FROM upravna_enota;\"\n",
    "df4 = pd.read_sql_query(sql_query_upravna_enota, conn)\n",
    "dataFrame_upravna_enota = pd.DataFrame(df4)"
   ],
   "id": "7205f6d222cd59ba",
   "outputs": [],
   "execution_count": null
  },
  {
   "metadata": {},
   "cell_type": "markdown",
   "source": "",
   "id": "12c97d49a7eab9fb"
  },
  {
   "metadata": {},
   "cell_type": "code",
   "source": [
    "import numpy as np\n",
    "dataFrame_nesreca = dataFrame_nesreca.replace('', np.nan)\n",
    "dataFrame_oseba = dataFrame_oseba.replace('', np.nan)\n",
    "dataFrame_upravna_enota = dataFrame_upravna_enota.replace('', np.nan)\n",
    "pd.set_option('display.max_rows', 99999999)\n"
   ],
   "id": "9852df3dc4aeba5a",
   "outputs": [],
   "execution_count": null
  },
  {
   "metadata": {
    "ExecuteTime": {
     "end_time": "2024-09-19T22:38:56.683651Z",
     "start_time": "2024-09-19T22:38:56.650055Z"
    }
   },
   "cell_type": "code",
   "source": [
    "##Q1 ##print ( dataFrame_nesreca.join(dataFrame_oseba, how='left',lsuffix='_nesreca',rsuffix='_oseba')  )\n",
    "##Q2 ##print(dataFrame_nesreca[\"stacionazna_ali_hisna_st\"].isnull().sum())\n",
    "##Q3 ##print(dataFrame_upravna_enota[dataFrame_upravna_enota['st_prebivalcev']==\"0\"])\n",
    "##Q4 ##print(dataFrame_oseba[dataFrame_oseba['vozniski_staz_LL']==\"1\"])\n",
    "print(dataFrame_nesreca.groupby(\"stanje_povrsina_vozisce\").size().reset_index(name='RECORD COUNT'))\n"
   ],
   "id": "e42310f669aa0a82",
   "outputs": [
    {
     "name": "stdout",
     "output_type": "stream",
     "text": [
      "  stanje_povrsina_vozisce  RECORD COUNT\n",
      "0                       A            97\n",
      "1                       M             2\n",
      "2                       O             1\n"
     ]
    }
   ],
   "execution_count": 16
  },
  {
   "metadata": {},
   "cell_type": "code",
   "source": "",
   "id": "ead4be884db4dcad",
   "outputs": [],
   "execution_count": null
  }
 ],
 "metadata": {
  "kernelspec": {
   "display_name": "Python 3",
   "language": "python",
   "name": "python3"
  },
  "language_info": {
   "codemirror_mode": {
    "name": "ipython",
    "version": 2
   },
   "file_extension": ".py",
   "mimetype": "text/x-python",
   "name": "python",
   "nbconvert_exporter": "python",
   "pygments_lexer": "ipython2",
   "version": "2.7.6"
  }
 },
 "nbformat": 4,
 "nbformat_minor": 5
}
