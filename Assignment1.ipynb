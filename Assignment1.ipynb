{
 "cells": [
  {
   "cell_type": "code",
   "id": "initial_id",
   "metadata": {
    "collapsed": true,
    "ExecuteTime": {
     "end_time": "2024-09-18T20:37:50.344933Z",
     "start_time": "2024-09-18T20:37:50.335480Z"
    }
   },
   "source": [
    "from idlelib.query import Query\n",
    "from itertools import groupby\n",
    "\n",
    "import pandas as pd\n",
    "import sqlite3 as sql\n",
    "import numpy as np\n",
    "from IPython.testing.decorators import onlyif\n",
    "\n",
    "conn = sql.connect(\"a1db.db\")\n",
    "sql_query = \"SELECT * FROM nesreca;\"\n",
    "df1 = pd.read_sql_query(sql_query, conn)\n",
    "df1.to_csv(\"a1db.csv\")"
   ],
   "outputs": [],
   "execution_count": 39
  },
  {
   "metadata": {
    "ExecuteTime": {
     "end_time": "2024-09-18T21:06:23.070866Z",
     "start_time": "2024-09-18T21:06:23.061120Z"
    }
   },
   "cell_type": "code",
   "source": [
    "sql_query_nesreca = \"SELECT * FROM nesreca;\"\n",
    "df2 = pd.read_sql_query(sql_query_nesreca, conn)\n",
    "dataFrame_nesreca = pd.DataFrame(df2)\n",
    "sql_query_oseba = \"SELECT * FROM oseba;\"\n",
    "df3 = pd.read_sql_query(sql_query_oseba, conn)\n",
    "dataFrame_oseba = pd.DataFrame(df3)\n",
    "sql_query_upravna_enota = \"SELECT * FROM upravna_enota;\"\n",
    "df4 = pd.read_sql_query(sql_query_upravna_enota, conn)\n",
    "dataFrame_upravna_enota = pd.DataFrame(df4)"
   ],
   "id": "7205f6d222cd59ba",
   "outputs": [],
   "execution_count": 45
  },
  {
   "metadata": {},
   "cell_type": "markdown",
   "source": "",
   "id": "12c97d49a7eab9fb"
  },
  {
   "metadata": {
    "ExecuteTime": {
     "end_time": "2024-09-19T15:41:35.235488Z",
     "start_time": "2024-09-19T15:41:35.228169Z"
    }
   },
   "cell_type": "code",
   "source": [
    "import numpy as np\n",
    "dataFrame_nesreca = dataFrame_nesreca.replace('', np.nan)\n",
    "dataFrame_oseba = dataFrame_oseba.replace('', np.nan)\n",
    "dataFrame_upravna_enota = dataFrame_upravna_enota.replace('', np.nan)\n",
    "pd.set_option('display.max_rows', 99999999)\n"
   ],
   "id": "9852df3dc4aeba5a",
   "outputs": [
    {
     "name": "stdout",
     "output_type": "stream",
     "text": [
      "20\n"
     ]
    }
   ],
   "execution_count": 83
  },
  {
   "metadata": {
    "ExecuteTime": {
     "end_time": "2024-09-19T15:54:46.950922Z",
     "start_time": "2024-09-19T15:54:46.944871Z"
    }
   },
   "cell_type": "code",
   "source": [
    "##print ( dataFrame_nesreca.join(dataFrame_oseba, how='left',lsuffix='_nesreca',rsuffix='_oseba')  )\n",
    "##print(dataFrame_nesreca[\"stacionazna_ali_hisna_st\"].isnull().sum())\n",
    "##print(dataFrame_upravna_enota[dataFrame_upravna_enota['st_prebivalcev']==\"0\"])"
   ],
   "id": "e42310f669aa0a82",
   "outputs": [
    {
     "name": "stdout",
     "output_type": "stream",
     "text": [
      "   id_upravna_enota ime_upravna_enota st_prebivalcev povrsina\n",
      "62             5598               MNZ              0        0\n",
      "63             5599           Neznana              0        0\n"
     ]
    }
   ],
   "execution_count": 91
  },
  {
   "metadata": {},
   "cell_type": "code",
   "outputs": [],
   "execution_count": null,
   "source": "",
   "id": "ead4be884db4dcad"
  }
 ],
 "metadata": {
  "kernelspec": {
   "display_name": "Python 3",
   "language": "python",
   "name": "python3"
  },
  "language_info": {
   "codemirror_mode": {
    "name": "ipython",
    "version": 2
   },
   "file_extension": ".py",
   "mimetype": "text/x-python",
   "name": "python",
   "nbconvert_exporter": "python",
   "pygments_lexer": "ipython2",
   "version": "2.7.6"
  }
 },
 "nbformat": 4,
 "nbformat_minor": 5
}
